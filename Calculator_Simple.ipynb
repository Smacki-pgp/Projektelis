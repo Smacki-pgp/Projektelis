{
 "cells": [
  {
   "cell_type": "code",
   "execution_count": 14,
   "metadata": {},
   "outputs": [],
   "source": [
    "choice = int(input(\"Enter your operation. 1: Addition, 2: Subtraction, 3:Multiplication, 4: Division\"))\n",
    "\n",
    "\n",
    "\n",
    "user_input_1 = int(input(\"Enter number 1: \"))\n",
    "user_input_2 = int(input(\"Enter number 2: \"))"
   ]
  },
  {
   "cell_type": "code",
   "execution_count": 15,
   "metadata": {},
   "outputs": [],
   "source": [
    "if choice == 1:\n",
    "    answer = user_input_1 + user_input_2\n",
    "elif choice == 2:\n",
    "    answer = user_input_1 - user_input_2\n",
    "elif choice == 3:\n",
    "    answer = user_input_1 * user_input_2\n",
    "else:\n",
    "    answer = user_input_1 / user_input_2"
   ]
  },
  {
   "cell_type": "code",
   "execution_count": 16,
   "metadata": {},
   "outputs": [
    {
     "name": "stdout",
     "output_type": "stream",
     "text": [
      "20\n"
     ]
    }
   ],
   "source": [
    "print (answer)"
   ]
  }
 ],
 "metadata": {
  "kernelspec": {
   "display_name": "Python 3",
   "language": "python",
   "name": "python3"
  },
  "language_info": {
   "codemirror_mode": {
    "name": "ipython",
    "version": 3
   },
   "file_extension": ".py",
   "mimetype": "text/x-python",
   "name": "python",
   "nbconvert_exporter": "python",
   "pygments_lexer": "ipython3",
   "version": "3.13.0"
  }
 },
 "nbformat": 4,
 "nbformat_minor": 2
}

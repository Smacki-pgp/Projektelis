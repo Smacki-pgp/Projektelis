{
 "cells": [
  {
   "cell_type": "code",
   "execution_count": 13,
   "metadata": {},
   "outputs": [
    {
     "name": "stdout",
     "output_type": "stream",
     "text": [
      "Remmembering python and expanding knowledge\n",
      "Married\n"
     ]
    }
   ],
   "source": [
    "print(\"Remmembering python and expanding knowledge\")\n",
    "first_name = \"Rico\"\n",
    "last_name = \"Seneco\"\n",
    "full_name = first_name + last_name\n",
    "country = \"Brazil\"\n",
    "city = \"Rio\"\n",
    "age = 25\n",
    "date = {\"year\":2024,\"month\":11 ,\"day\":22 }\n",
    "is_married = input(\"Are you married?\")\n",
    "marriage_answers = (\"yes\",\"ye\",\"Yes\",\"of course\")\n",
    "if is_married in marriage_answers:\n",
    "    print(\"Married\")\n",
    "else:\n",
    "    print(\"Not Married\")\n"
   ]
  },
  {
   "cell_type": "code",
   "execution_count": 14,
   "metadata": {},
   "outputs": [
    {
     "name": "stdout",
     "output_type": "stream",
     "text": [
      "<class 'str'>\n",
      "<class 'str'>\n",
      "<class 'str'>\n",
      "<class 'dict'>\n",
      "<class 'tuple'>\n"
     ]
    }
   ],
   "source": [
    "print(type(first_name))\n",
    "print(type(full_name))\n",
    "print(type(is_married))\n",
    "print(type(date))\n",
    "print(type(marriage_answers))\n"
   ]
  },
  {
   "cell_type": "code",
   "execution_count": null,
   "metadata": {},
   "outputs": [
    {
     "name": "stdout",
     "output_type": "stream",
     "text": [
      "The difference is : 2 Letters\n"
     ]
    }
   ],
   "source": [
    "first_vs_last_name_len = abs(len(first_name) - len(last_name))\n",
    "\n",
    "print(f\"The difference is: {first_vs_last_name_len} \" + \"Letters\")"
   ]
  },
  {
   "cell_type": "code",
   "execution_count": 22,
   "metadata": {},
   "outputs": [
    {
     "name": "stdout",
     "output_type": "stream",
     "text": [
      "Here is your answer: 62.800000000000004\n"
     ]
    }
   ],
   "source": [
    "num_one = 5\n",
    "num_two = 4\n",
    "total = num_one + num_two\n",
    "diff = num_two - num_one\n",
    "product = num_two * num_one\n",
    "division = num_one / num_two\n",
    "remainder = num_two % num_one\n",
    "exp = num_one ** num_two\n",
    "\n",
    "area_of_circle = 2*3.14*(30**2)\n",
    "circum_of_circle_input_num = int(input(\"Enter the radius: \"))\n",
    "circum_of_circle_input_calc = 2*3.14*circum_of_circle_input_num\n",
    "circum_of_circle_input_answer = print(f\"Here is your answer: {circum_of_circle_input_calc}\")"
   ]
  },
  {
   "cell_type": "code",
   "execution_count": null,
   "metadata": {},
   "outputs": [],
   "source": [
    "print(len('mango') == len('avocado'))  # False\n",
    "print(len('mango') != len('avocado'))  # True\n",
    "print(len('mango') < len('avocado'))   # True\n",
    "print(len('milk') != len('meat'))      # False\n",
    "print(len('milk') == len('meat'))      # True\n",
    "print(len('tomato') == len('potato'))  # True\n",
    "print(len('python') > len('dragon'))   # False\n",
    "\n",
    "\n",
    "# Comparing something gives either a True or False\n",
    "\n",
    "print('True == True: ', True == True)\n",
    "print('True == False: ', True == False)\n",
    "print('False == False:', False == False)"
   ]
  },
  {
   "cell_type": "code",
   "execution_count": null,
   "metadata": {},
   "outputs": [],
   "source": []
  }
 ],
 "metadata": {
  "kernelspec": {
   "display_name": "Python 3",
   "language": "python",
   "name": "python3"
  },
  "language_info": {
   "codemirror_mode": {
    "name": "ipython",
    "version": 3
   },
   "file_extension": ".py",
   "mimetype": "text/x-python",
   "name": "python",
   "nbconvert_exporter": "python",
   "pygments_lexer": "ipython3",
   "version": "3.13.0"
  }
 },
 "nbformat": 4,
 "nbformat_minor": 2
}

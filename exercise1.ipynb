{
 "cells": [
  {
   "cell_type": "code",
   "execution_count": 8,
   "metadata": {},
   "outputs": [
    {
     "name": "stdout",
     "output_type": "stream",
     "text": [
      "Remmembering python and expanding knowledge\n",
      "Married\n"
     ]
    }
   ],
   "source": [
    "print(\"Remmembering python and expanding knowledge\")\n",
    "first_name = \"Rico\"\n",
    "last_name = \"Seneco\"\n",
    "full_name = first_name + last_name\n",
    "country = \"Brazil\"\n",
    "city = \"Rio\"\n",
    "age = 25\n",
    "date = {\"year\":2024,\"month\":11 ,\"day\":22 }\n",
    "is_married = input(\"Are you married?\")\n",
    "marriage_answers = (\"yes\",\"ye\",\"Yes\",\"of course\")\n",
    "if is_married in marriage_answers:\n",
    "    print(\"Married\")\n",
    "else:\n",
    "    print(\"Not Married\")\n"
   ]
  },
  {
   "cell_type": "code",
   "execution_count": 10,
   "metadata": {},
   "outputs": [
    {
     "name": "stdout",
     "output_type": "stream",
     "text": [
      "<class 'str'>\n",
      "<class 'str'>\n",
      "<class 'str'>\n",
      "<class 'dict'>\n",
      "<class 'tuple'>\n"
     ]
    }
   ],
   "source": [
    "print(type(first_name))\n",
    "print(type(full_name))\n",
    "print(type(is_married))\n",
    "print(type(date))\n",
    "print(type(marriage_answers))\n"
   ]
  },
  {
   "cell_type": "code",
   "execution_count": null,
   "metadata": {},
   "outputs": [],
   "source": []
  },
  {
   "cell_type": "code",
   "execution_count": null,
   "metadata": {},
   "outputs": [],
   "source": []
  },
  {
   "cell_type": "code",
   "execution_count": null,
   "metadata": {},
   "outputs": [],
   "source": []
  },
  {
   "cell_type": "code",
   "execution_count": null,
   "metadata": {},
   "outputs": [],
   "source": []
  }
 ],
 "metadata": {
  "kernelspec": {
   "display_name": "Python 3",
   "language": "python",
   "name": "python3"
  },
  "language_info": {
   "codemirror_mode": {
    "name": "ipython",
    "version": 3
   },
   "file_extension": ".py",
   "mimetype": "text/x-python",
   "name": "python",
   "nbconvert_exporter": "python",
   "pygments_lexer": "ipython3",
   "version": "3.13.0"
  }
 },
 "nbformat": 4,
 "nbformat_minor": 2
}

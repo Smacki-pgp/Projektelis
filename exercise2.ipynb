{
 "cells": [
  {
   "cell_type": "code",
   "execution_count": 8,
   "metadata": {},
   "outputs": [
    {
     "name": "stdout",
     "output_type": "stream",
     "text": [
      "The triangle area is: 10.0\n"
     ]
    }
   ],
   "source": [
    "age_human = 45\n",
    "height_human = 1.8\n",
    "complex_number = 1j\n",
    "\n",
    "base_value = float(input(\"Enter base val: \"))#input the base size\n",
    "height_value = float(input(\"Enter height val: \")) #input the height\n",
    "triangle_area = 0.5*base_value*height_value\n",
    "if base_value < 0 or height_value < 0:\n",
    "    print(\"Use a logical number\")\n",
    "else:\n",
    "    print(f\"The triangle area is: {triangle_area}\")"
   ]
  },
  {
   "cell_type": "code",
   "execution_count": 9,
   "metadata": {},
   "outputs": [
    {
     "name": "stdout",
     "output_type": "stream",
     "text": [
      "18\n"
     ]
    }
   ],
   "source": [
    "side_a = int(input(\"Enter A: \"))\n",
    "side_b = int(input(\"Enter B: \"))\n",
    "side_c = int(input(\"Enter C: \"))\n",
    "print(side_a+side_b+side_c)"
   ]
  },
  {
   "cell_type": "code",
   "execution_count": 10,
   "metadata": {},
   "outputs": [],
   "source": [
    "pi_numb = 3.14\n",
    "num_x = int(input(\"Enter x\"))\n",
    "num_y = int(input(\"Enter y\"))\n",
    "num_r = int(input(\"Enter r\"))\n",
    "\n",
    "rol = 2"
   ]
  },
  {
   "cell_type": "code",
   "execution_count": 14,
   "metadata": {},
   "outputs": [
    {
     "name": "stdout",
     "output_type": "stream",
     "text": [
      "Yeeeeeee\n",
      "Its Jargon..\n",
      "True\n",
      "<class 'float'>\n",
      "<class 'str'>\n"
     ]
    }
   ],
   "source": [
    "str_a = \"Python\"\n",
    "str_b = \"Dragon\"\n",
    "\n",
    "\n",
    "len_a = len(str_a)\n",
    "len_b = len(str_b)\n",
    "soom = len_a >= len_b\n",
    "if \"on\" in str_a and str_b:\n",
    "    print(\"Yeeeeeee\")\n",
    "else:\n",
    "    print(\"NAAWW\")\n",
    "\n",
    "deez = \"All this talk is full of Jargon\"\n",
    "\n",
    "if \"Jargon\" == str_a or \"Jargon\" == str_b or \"Jargon\" in deez:\n",
    "    print(\"Its Jargon..\")\n",
    "else:\n",
    "    print(\"No Jargon\")\n",
    "\n",
    "print(soom)\n",
    "len_a = float(len_a)\n",
    "print(type(len_a))\n",
    "len_a = str(len_a)\n",
    "print(type(len_a))"
   ]
  },
  {
   "cell_type": "code",
   "execution_count": null,
   "metadata": {},
   "outputs": [
    {
     "name": "stdout",
     "output_type": "stream",
     "text": [
      "Number is not eq\n"
     ]
    }
   ],
   "source": [
    "yes_or_not = int(input(\"Enter your number: \"))\n",
    "if yes_or_not % 2 == 0:\n",
    "    print(\"Number is eq\")\n",
    "else:\n",
    "    print(\"Num is not eq\")"
   ]
  },
  {
   "cell_type": "code",
   "execution_count": null,
   "metadata": {},
   "outputs": [],
   "source": []
  }
 ],
 "metadata": {
  "kernelspec": {
   "display_name": "Python 3",
   "language": "python",
   "name": "python3"
  },
  "language_info": {
   "codemirror_mode": {
    "name": "ipython",
    "version": 3
   },
   "file_extension": ".py",
   "mimetype": "text/x-python",
   "name": "python",
   "nbconvert_exporter": "python",
   "pygments_lexer": "ipython3",
   "version": "3.13.0"
  }
 },
 "nbformat": 4,
 "nbformat_minor": 2
}

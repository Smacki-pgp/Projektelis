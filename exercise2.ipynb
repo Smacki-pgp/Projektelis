{
 "cells": [
  {
   "cell_type": "code",
   "execution_count": 8,
   "metadata": {},
   "outputs": [
    {
     "name": "stdout",
     "output_type": "stream",
     "text": [
      "The triangle area is: 10.0\n"
     ]
    }
   ],
   "source": [
    "age_human = 45\n",
    "height_human = 1.8\n",
    "complex_number = 1j\n",
    "\n",
    "base_value = float(input(\"Enter base val: \"))#input the base size\n",
    "height_value = float(input(\"Enter height val: \")) #input the height\n",
    "triangle_area = 0.5*base_value*height_value\n",
    "if base_value < 0 or height_value < 0:\n",
    "    print(\"Use a logical number\")\n",
    "else:\n",
    "    print(f\"The triangle area is: {triangle_area}\")"
   ]
  },
  {
   "cell_type": "code",
   "execution_count": 9,
   "metadata": {},
   "outputs": [
    {
     "name": "stdout",
     "output_type": "stream",
     "text": [
      "18\n"
     ]
    }
   ],
   "source": [
    "side_a = int(input(\"Enter A: \"))\n",
    "side_b = int(input(\"Enter B: \"))\n",
    "side_c = int(input(\"Enter C: \"))\n",
    "print(side_a+side_b+side_c)"
   ]
  },
  {
   "cell_type": "code",
   "execution_count": 10,
   "metadata": {},
   "outputs": [],
   "source": [
    "pi_numb = 3.14\n",
    "num_x = int(input(\"Enter x\"))\n",
    "num_y = int(input(\"Enter y\"))\n",
    "num_r = int(input(\"Enter r\"))\n",
    "\n",
    "rol = 2"
   ]
  },
  {
   "cell_type": "code",
   "execution_count": 14,
   "metadata": {},
   "outputs": [
    {
     "name": "stdout",
     "output_type": "stream",
     "text": [
      "Yeeeeeee\n",
      "Its Jargon..\n",
      "True\n",
      "<class 'float'>\n",
      "<class 'str'>\n"
     ]
    }
   ],
   "source": [
    "str_a = \"Python\"\n",
    "str_b = \"Dragon\"\n",
    "\n",
    "\n",
    "len_a = len(str_a)\n",
    "len_b = len(str_b)\n",
    "soom = len_a >= len_b\n",
    "if \"on\" in str_a and str_b:\n",
    "    print(\"Yeeeeeee\")\n",
    "else:\n",
    "    print(\"NAAWW\")\n",
    "\n",
    "deez = \"All this talk is full of Jargon\"\n",
    "\n",
    "if \"Jargon\" == str_a or \"Jargon\" == str_b or \"Jargon\" in deez:\n",
    "    print(\"Its Jargon..\")\n",
    "else:\n",
    "    print(\"No Jargon\")\n",
    "\n",
    "print(soom)\n",
    "len_a = float(len_a)\n",
    "print(type(len_a))\n",
    "len_a = str(len_a)\n",
    "print(type(len_a))"
   ]
  },
  {
   "cell_type": "code",
   "execution_count": null,
   "metadata": {},
   "outputs": [
    {
     "name": "stdout",
     "output_type": "stream",
     "text": [
      "Number is not eq\n"
     ]
    }
   ],
   "source": [
    "yes_or_not = int(input(\"Enter your number: \"))\n",
    "if yes_or_not % 2 == 0:\n",
    "    print(\"Number is eq\")\n",
    "else:\n",
    "    print(\"Num is not eq\")"
   ]
  },
  {
   "cell_type": "code",
   "execution_count": 23,
   "metadata": {},
   "outputs": [
    {
     "name": "stdout",
     "output_type": "stream",
     "text": [
      "2\n",
      "True\n",
      "True\n"
     ]
    }
   ],
   "source": [
    "abz = 7 // 3\n",
    "print(int(abz))\n",
    "\n",
    "print(type(10) == type(10))\n",
    "print(type(int(9.8)) == type(10))"
   ]
  },
  {
   "cell_type": "code",
   "execution_count": 10,
   "metadata": {},
   "outputs": [
    {
     "name": "stdout",
     "output_type": "stream",
     "text": [
      "Income is: 720.0\n",
      "4.5\n"
     ]
    }
   ],
   "source": [
    "#Wage calculator\n",
    "daily_hours = int(input(\"Enter daily working hours: \"))\n",
    "\n",
    "days_per_week = int(input(\"Enter how many days per week you work: \"))\n",
    "\n",
    "total_hours = (daily_hours*days_per_week)*4\n",
    "\n",
    "gross_incom = float(input(\"Enter your gross income: \"))\n",
    "\n",
    "if gross_incom > 0 and type(gross_incom) == float:\n",
    "    net_incom = round(float(gross_incom*0.8),3)\n",
    "    print(f\"Income is: {net_incom}\")\n",
    "    print(net_incom/total_hours)\n",
    "else:\n",
    "    print(\"idiot put in a numbr\")\n"
   ]
  },
  {
   "cell_type": "code",
   "execution_count": null,
   "metadata": {},
   "outputs": [
    {
     "name": "stdout",
     "output_type": "stream",
     "text": [
      "Number  Root    Number  Square  Cube   \n",
      "1        1        1       1       1      \n",
      "2        1        2       4       8      \n",
      "3        1        3       9       27     \n",
      "4        1        4       16      64     \n",
      "5        1        5       25      125    \n",
      "6        1        6       36      216    \n",
      "7        1        7       49      343    \n"
     ]
    }
   ],
   "source": [
    "# Header row\n",
    "print(f\"{'Number':<7} {'Root':<7} {'Number':<7} {'Square':<7} {'Cube':<7}\")\n",
    "\n",
    "#Data\n",
    "for i in range(1,8):\n",
    "    print(f\"{i:<7}  1        {i:<7} {i**2:<7} {i**3:<7}\")"
   ]
  }
 ],
 "metadata": {
  "kernelspec": {
   "display_name": "Python 3",
   "language": "python",
   "name": "python3"
  },
  "language_info": {
   "codemirror_mode": {
    "name": "ipython",
    "version": 3
   },
   "file_extension": ".py",
   "mimetype": "text/x-python",
   "name": "python",
   "nbconvert_exporter": "python",
   "pygments_lexer": "ipython3",
   "version": "3.13.0"
  }
 },
 "nbformat": 4,
 "nbformat_minor": 2
}
